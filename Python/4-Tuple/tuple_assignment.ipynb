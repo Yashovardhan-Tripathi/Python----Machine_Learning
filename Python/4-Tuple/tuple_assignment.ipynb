{
 "cells": [
  {
   "cell_type": "markdown",
   "id": "6cade624",
   "metadata": {},
   "source": [
    "# Module 3: Data Structures Assignments\n",
    "## Lesson 3.2: Tuples\n",
    "### Assignment 1: Creating and Accessing Tuples\n",
    "\n",
    "Create a tuple with the first 10 positive integers. Print the tuple.\n",
    "\n",
    "### Assignment 2: Accessing Tuple Elements\n",
    "\n",
    "Print the first, middle, and last elements of the tuple created in Assignment 1.\n",
    "\n",
    "### Assignment 3: Tuple Slicing\n",
    "\n",
    "Print the first three elements, the last three elements, and the elements from index 2 to 5 of the tuple created in Assignment 1.\n",
    "\n",
    "### Assignment 4: Nested Tuples\n",
    "\n",
    "Create a nested tuple representing a 3x3 matrix and print the matrix. Access and print the element at the second row and third column.\n",
    "\n",
    "### Assignment 5: Tuple Concatenation\n",
    "\n",
    "Concatenate two tuples: (1, 2, 3) and (4, 5, 6). Print the resulting tuple.\n",
    "\n",
    "### Assignment 6: Tuple Methods\n",
    "\n",
    "Create a tuple with duplicate elements and count the occurrences of an element. Find the index of the first occurrence of an element in the tuple.\n",
    "\n",
    "### Assignment 7: Unpacking Tuples\n",
    "\n",
    "Create a tuple with 5 elements and unpack it into 5 variables. Print the variables.\n",
    "\n",
    "### Assignment 8: Tuple Conversion\n",
    "\n",
    "Convert a list of the first 5 positive integers to a tuple. Print the tuple.\n",
    "\n",
    "### Assignment 9: Tuple of Tuples\n",
    "\n",
    "Create a tuple containing 3 tuples, each with 3 elements. Print the tuple of tuples.\n",
    "\n",
    "### Assignment 10: Tuple and List\n",
    "\n",
    "Create a tuple with the first 5 positive integers. Convert it to a list, append the number 6, and convert it back to a tuple. Print the resulting tuple.\n",
    "\n",
    "### Assignment 11: Tuple and String\n",
    "\n",
    "Create a tuple with the characters of a string. Join the tuple elements into a single string. Print the string.\n",
    "\n",
    "### Assignment 12: Tuple and Dictionary\n",
    "\n",
    "Create a dictionary with tuple keys and integer values. Print the dictionary.\n",
    "\n",
    "### Assignment 13: Nested Tuple Iteration\n",
    "\n",
    "Create a nested tuple and iterate over the elements, printing each element.\n",
    "\n",
    "### Assignment 14: Tuple and Set\n",
    "\n",
    "Create a tuple with duplicate elements. Convert it to a set to remove duplicates and print the resulting set.\n",
    "\n",
    "### Assignment 15: Tuple Functions\n",
    "\n",
    "Write functions that take a tuple and return the minimum, maximum, and sum of the elements. Print the results for a sample tuple."
   ]
  },
  {
   "cell_type": "markdown",
   "id": "390b2f55",
   "metadata": {},
   "source": [
    "Create a tuple with the first 10 positive integers. Print the tuple."
   ]
  },
  {
   "cell_type": "code",
   "execution_count": 9,
   "metadata": {},
   "outputs": [
    {
     "name": "stdout",
     "output_type": "stream",
     "text": [
      "(1, 2, 3, 4, 5, 6, 7, 8, 9, 10)\n"
     ]
    }
   ],
   "source": [
    "Tup=tuple(range(1,11))\n",
    "print(Tup)"
   ]
  },
  {
   "cell_type": "markdown",
   "id": "edfdbff0",
   "metadata": {},
   "source": [
    "Print the first, middle, and last elements of the tuple created in Assignment 1."
   ]
  },
  {
   "cell_type": "code",
   "execution_count": 10,
   "id": "5777db9a",
   "metadata": {},
   "outputs": [
    {
     "name": "stdout",
     "output_type": "stream",
     "text": [
      "First Element 1\n",
      "Middle Element 5\n",
      "First Element 10\n"
     ]
    }
   ],
   "source": [
    "print(f\"First Element {Tup[0]}\")\n",
    "print(f\"Middle Element {len(Tup)//2}\")\n",
    "print(f\"First Element {Tup[-1]}\")\n"
   ]
  },
  {
   "cell_type": "markdown",
   "id": "2d8fdb2c",
   "metadata": {},
   "source": [
    "Print the first three elements, the last three elements, and the elements from index 2 to 5 of the tuple created in Assignment 1.\n"
   ]
  },
  {
   "cell_type": "code",
   "execution_count": 19,
   "id": "3f766fbe",
   "metadata": {},
   "outputs": [
    {
     "name": "stdout",
     "output_type": "stream",
     "text": [
      "First Element (1, 2, 3)\n",
      "Middle Element (3, 4, 5, 6)\n",
      "First Element (8, 9, 10)\n"
     ]
    }
   ],
   "source": [
    "print(f\"First Element {Tup[:3]}\")\n",
    "print(f\"Middle Element {Tup[2:6]}\")\n",
    "print(f\"First Element {Tup[-3:]}\")"
   ]
  },
  {
   "cell_type": "markdown",
   "id": "bc397319",
   "metadata": {},
   "source": [
    "Create a nested tuple representing a 3x3 matrix and print the matrix. Access and print the element at the second row and third column."
   ]
  },
  {
   "cell_type": "code",
   "execution_count": 25,
   "id": "dda3a2ac",
   "metadata": {},
   "outputs": [
    {
     "name": "stdout",
     "output_type": "stream",
     "text": [
      "((1, 2, 3), (4, 5, 6), (7, 8, 9))\n",
      "The element at the second row and third column is: 6\n"
     ]
    }
   ],
   "source": [
    "TUP=((1,2,3),(4,5,6),(7,8,9))\n",
    "print(f\"{TUP}\")\n",
    "print(f\"The element at the second row and third column is: {TUP[1][2]}\")"
   ]
  },
  {
   "cell_type": "markdown",
   "id": "30a80b43",
   "metadata": {},
   "source": [
    "Concatenate two tuples: (1, 2, 3) and (4, 5, 6). Print the resulting tuple.\n"
   ]
  },
  {
   "cell_type": "code",
   "execution_count": 33,
   "id": "c8b88451",
   "metadata": {},
   "outputs": [
    {
     "name": "stdout",
     "output_type": "stream",
     "text": [
      "The concatination is: (1, 2, 3, 4, 5, 6)\n"
     ]
    }
   ],
   "source": [
    "TUP1=(1,2,3)\n",
    "TUP2=(4,5,6)\n",
    "concatenate=TUP1+TUP2\n",
    "print(f\"The concatination is: {concatenate}\")"
   ]
  },
  {
   "cell_type": "markdown",
   "id": "109f3cf0",
   "metadata": {},
   "source": [
    "Create a tuple with duplicate elements and count the occurrences of an element. Find the index of the first occurrence of an element in the tuple."
   ]
  },
  {
   "cell_type": "code",
   "execution_count": 36,
   "id": "26d3ce5e",
   "metadata": {},
   "outputs": [
    {
     "name": "stdout",
     "output_type": "stream",
     "text": [
      "1\n"
     ]
    }
   ],
   "source": [
    "tup=(1,2,34,4,5,6,556,31,5,321,32321,2132,321,5,1,232,132,13,5,132,13,15,123,1,2315,1,23,135,14,5,23,1165)\n",
    "Count=tup.count(1165)\n",
    "print(Count)"
   ]
  },
  {
   "cell_type": "markdown",
   "id": "2e1a0447",
   "metadata": {},
   "source": [
    "Create a tuple with 5 elements and unpack it into 5 variables. Print the variables.\n"
   ]
  },
  {
   "cell_type": "code",
   "execution_count": 40,
   "id": "67dff1e6",
   "metadata": {},
   "outputs": [
    {
     "name": "stdout",
     "output_type": "stream",
     "text": [
      "(1, 2, 3, 4, 5, 6, 7, 8, 9, 10)\n",
      "1 2 3 4 5 6 7 8 9 10\n"
     ]
    }
   ],
   "source": [
    "print(Tup)\n",
    "a,b,c,d,e,f,g,h,i,j=Tup\n",
    "print(a,b,c,d,e,f,g,h,i,j)"
   ]
  },
  {
   "cell_type": "markdown",
   "id": "87e46939",
   "metadata": {},
   "source": [
    "Convert a list of the first 5 positive integers to a tuple. Print the tuple.\n"
   ]
  },
  {
   "cell_type": "code",
   "execution_count": 44,
   "id": "08852ed6",
   "metadata": {},
   "outputs": [
    {
     "name": "stdout",
     "output_type": "stream",
     "text": [
      "(1, 2, 3, 5, 6)\n"
     ]
    }
   ],
   "source": [
    "lst=[1,2,3,5,6]\n",
    "print(tuple(lst))"
   ]
  },
  {
   "cell_type": "markdown",
   "id": "c98c0bc1",
   "metadata": {},
   "source": [
    "Create a tuple containing 3 tuples, each with 3 elements. Print the tuple of tuples."
   ]
  },
  {
   "cell_type": "code",
   "execution_count": 45,
   "id": "f92003b7",
   "metadata": {},
   "outputs": [
    {
     "name": "stdout",
     "output_type": "stream",
     "text": [
      "((2, 3, 4), (1, 5, 6), (7, 9, 0)) "
     ]
    }
   ],
   "source": [
    "tup=((2,3,4),(1,5,6),(7,9,0))\n",
    "print(tup)"
   ]
  },
  {
   "cell_type": "markdown",
   "id": "21e1e277",
   "metadata": {},
   "source": [
    "\n",
    "Create a tuple with the first 5 positive integers. Convert it to a list, append the number 6, and convert it back to a tuple. Print the resulting tuple."
   ]
  },
  {
   "cell_type": "code",
   "execution_count": 55,
   "id": "5c0f5266",
   "metadata": {},
   "outputs": [
    {
     "name": "stdout",
     "output_type": "stream",
     "text": [
      "[1, 2, 3, 4, 5, 6]\n",
      "(1, 2, 3, 4, 5, 6)\n"
     ]
    }
   ],
   "source": [
    "TuP=(range(1,6))\n",
    "lst=list(TuP)\n",
    "lst.append(6)\n",
    "print(lst)\n",
    "TuP=tuple(lst)\n",
    "print(TuP)"
   ]
  },
  {
   "cell_type": "markdown",
   "id": "db0d8e9d",
   "metadata": {},
   "source": [
    "Create a tuple with the characters of a string. Join the tuple elements into a single string. Print the string."
   ]
  },
  {
   "cell_type": "code",
   "execution_count": 59,
   "id": "d2e38b23",
   "metadata": {},
   "outputs": [
    {
     "name": "stdout",
     "output_type": "stream",
     "text": [
      "Yash a\n"
     ]
    }
   ],
   "source": [
    "TUP1=(\" a\")\n",
    "TUP2=\"Yash\"\n",
    "fb=TUP2+TUP1\n",
    "print(fb)"
   ]
  },
  {
   "cell_type": "markdown",
   "id": "fd0e0991",
   "metadata": {},
   "source": [
    "Create a tuple with the characters of a string. Join the tuple elements into a single string. Print the string."
   ]
  },
  {
   "cell_type": "code",
   "execution_count": 63,
   "id": "b427f8c0",
   "metadata": {},
   "outputs": [
    {
     "name": "stdout",
     "output_type": "stream",
     "text": [
      "1\n",
      "2\n",
      "4\n",
      "5\n",
      "\n",
      "3\n",
      "4\n",
      "4324\n",
      "2\n",
      "\n",
      "2.1\n",
      "324\n",
      "3242\n",
      "22\n",
      "\n"
     ]
    }
   ],
   "source": [
    "Am=((1,2,4,5),(3,4,4324,2),(2.1,324,3242,22))\n",
    "for a in Am:\n",
    "    for x in a:\n",
    "        print(x)\n",
    "    print()"
   ]
  },
  {
   "cell_type": "markdown",
   "id": "e11bbd0e",
   "metadata": {},
   "source": [
    "Write functions that take a tuple and return the minimum, maximum, and sum of the elements. Print the results for a sample tuple."
   ]
  },
  {
   "cell_type": "code",
   "execution_count": null,
   "id": "a4ca0cb3",
   "metadata": {},
   "outputs": [],
   "source": [
    "\n"
   ]
  }
 ],
 "metadata": {
  "kernelspec": {
   "display_name": "Python 3",
   "language": "python",
   "name": "python3"
  },
  "language_info": {
   "codemirror_mode": {
    "name": "ipython",
    "version": 3
   },
   "file_extension": ".py",
   "mimetype": "text/x-python",
   "name": "python",
   "nbconvert_exporter": "python",
   "pygments_lexer": "ipython3",
   "version": "3.12.3"
  }
 },
 "nbformat": 4,
 "nbformat_minor": 5
}

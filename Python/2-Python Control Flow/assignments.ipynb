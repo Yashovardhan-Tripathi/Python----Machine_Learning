{
 "cells": [
  {
   "cell_type": "markdown",
   "metadata": {},
   "source": [
    "# Module 2: Control Flow Assignments\n",
    "## Lesson 2.1: Conditional Statements\n",
    "### Assignment 1: Simple if Statement\n",
    "\n",
    "Write a program that asks the user to input a number and prints whether the number is positive.\n",
    "\n",
    "### Assignment 2: if-else Statement\n",
    "\n",
    "Write a program that asks the user to input a number and prints whether the number is positive or negative.\n",
    "\n",
    "### Assignment 3: if-elif-else Statement\n",
    "\n",
    "Write a program that asks the user to input a number and prints whether the number is positive, negative, or zero.\n",
    "\n",
    "### Assignment 4: Nested if Statement\n",
    "\n",
    "Write a program that asks the user to input a number and prints whether the number is positive and even, positive and odd, or negative.\n",
    "\n",
    "## Lesson 2.2: Loops\n",
    "### Assignment 5: for Loop\n",
    "\n",
    "Write a program that prints all the numbers from 1 to 10 using a for loop.\n",
    "\n",
    "### Assignment 6: while Loop\n",
    "\n",
    "Write a program that prints all the numbers from 1 to 10 using a while loop.\n",
    "\n",
    "### Assignment 7: Nested Loops\n",
    "\n",
    "Write a program that prints a 5x5 grid of asterisks (*) using nested loops.\n",
    "\n",
    "### Assignment 8: break Statement\n",
    "\n",
    "Write a program that asks the user to input numbers until they input 0. The program should print the sum of all the input numbers.\n",
    "\n",
    "### Assignment 9: continue Statement\n",
    "\n",
    "Write a program that prints all the numbers from 1 to 10 except 5 using a for loop and continue statement.\n",
    "\n",
    "### Assignment 10: pass Statement\n",
    "\n",
    "Write a program that defines an empty function using the pass statement.\n",
    "\n",
    "### Assignment 11: Combining Loops and Conditionals\n",
    "\n",
    "Write a program that asks the user to input a number and prints all the even numbers from 1 to that number using a for loop.\n",
    "\n",
    "### Assignment 12: Factorial Calculation\n",
    "\n",
    "Write a program that calculates the factorial of a number input by the user using a while loop.\n",
    "\n",
    "### Assignment 13: Sum of Digits\n",
    "\n",
    "Write a program that calculates the sum of the digits of a number input by the user using a while loop.\n",
    "\n",
    "### Assignment 14: Prime Number Check\n",
    "\n",
    "Write a program that checks if a number input by the user is a prime number using a for loop.\n",
    "\n",
    "### Assignment 15: Fibonacci Sequence\n",
    "\n",
    "Write a program that prints the first n Fibonacci numbers, where n is input by the user."
   ]
  },
  {
   "cell_type": "markdown",
   "id": "43ff1aaf",
   "metadata": {},
   "source": [
    "    SOLUTIONS ----->"
   ]
  },
  {
   "cell_type": "markdown",
   "id": "259efbd3",
   "metadata": {},
   "source": [
    "### Assignment 1: Simple if Statement\n",
    "\n",
    "Write a program that asks the user to input a number and prints whether the number is positive."
   ]
  },
  {
   "cell_type": "code",
   "execution_count": 7,
   "id": "acf96cfb",
   "metadata": {},
   "outputs": [
    {
     "name": "stdout",
     "output_type": "stream",
     "text": [
      "Your Number is a Positive Number \n"
     ]
    }
   ],
   "source": [
    "Number=int(input(\"Enter a Number of your choice \"))\n",
    "if(Number>=0):\n",
    "    print(\"Your Number is a Positive Number \")"
   ]
  },
  {
   "cell_type": "markdown",
   "id": "261e0387",
   "metadata": {},
   "source": [
    "### Assignment 2: if-else Statement\n",
    "\n",
    "Write a program that asks the user to input a number and prints whether the number is positive or negative."
   ]
  },
  {
   "cell_type": "code",
   "execution_count": 8,
   "id": "1b31820a",
   "metadata": {},
   "outputs": [
    {
     "name": "stdout",
     "output_type": "stream",
     "text": [
      "Your Number is a Negative Number \n"
     ]
    }
   ],
   "source": [
    "Number=int(input(\"Enter a Number of your choice \"))\n",
    "if(Number>=0):\n",
    "    print(\"Your Number is a Positive Number \")\n",
    "else:\n",
    "    print(\"Your Number is a Negative Number \")"
   ]
  },
  {
   "cell_type": "markdown",
   "id": "8a8445cb",
   "metadata": {},
   "source": [
    "### Assignment 3: if-elif-else Statement\n",
    "\n",
    "Write a program that asks the user to input a number and prints whether the number is positive, negative, or zero."
   ]
  },
  {
   "cell_type": "code",
   "execution_count": 9,
   "id": "64e44202",
   "metadata": {},
   "outputs": [
    {
     "name": "stdout",
     "output_type": "stream",
     "text": [
      "Your Number is a Zero (0) \n"
     ]
    }
   ],
   "source": [
    "Number=int(input(\"Enter a Number of your choice \"))\n",
    "if(Number>0):\n",
    "    print(\"Your Number is a Positive Number \")\n",
    "elif(Number==0):\n",
    "   print(\"Your Number is a Zero (0) \")\n",
    "else:\n",
    "    print(\"Your Number is a Negative Number \")"
   ]
  },
  {
   "cell_type": "markdown",
   "id": "669e0453",
   "metadata": {},
   "source": [
    "### Assignment 4: Nested if Statement\n",
    "\n",
    "Write a program that asks the user to input a number and prints whether the number is positive and even, positive and odd, or negative."
   ]
  },
  {
   "cell_type": "code",
   "execution_count": 14,
   "id": "5b452c2e",
   "metadata": {},
   "outputs": [
    {
     "name": "stdout",
     "output_type": "stream",
     "text": [
      "Your Number is a Positive Number and a Odd Number \n"
     ]
    }
   ],
   "source": [
    "Number=int(input(\"Enter a Number of your choice \"))\n",
    "if(Number>=0):\n",
    "    if(Number%2==0):\n",
    "        print(\"Your Number is a Positive Number and a Even Number \")\n",
    "    else:\n",
    "        print(\"Your Number is a Positive Number and a Odd Number \")\n",
    "else:\n",
    "    print(\"Your Number is a Negative Number \")"
   ]
  },
  {
   "cell_type": "markdown",
   "id": "759c17b2",
   "metadata": {},
   "source": [
    "### Assignment 5: for Loop\n",
    "\n",
    "Write a program that prints all the numbers from 1 to 10 using a for loop."
   ]
  },
  {
   "cell_type": "code",
   "execution_count": 16,
   "id": "d4d5a1de",
   "metadata": {},
   "outputs": [
    {
     "name": "stdout",
     "output_type": "stream",
     "text": [
      "1\n",
      "2\n",
      "3\n",
      "4\n",
      "5\n",
      "6\n",
      "7\n",
      "8\n",
      "9\n",
      "10\n"
     ]
    }
   ],
   "source": [
    "for i in range(1,11):\n",
    "    print(i)"
   ]
  },
  {
   "cell_type": "markdown",
   "id": "ff6eb941",
   "metadata": {},
   "source": [
    "### Assignment 6: while Loop\n",
    "\n",
    "Write a program that prints all the numbers from 1 to 10 using a while loop."
   ]
  },
  {
   "cell_type": "code",
   "execution_count": 19,
   "id": "98220b10",
   "metadata": {},
   "outputs": [
    {
     "name": "stdout",
     "output_type": "stream",
     "text": [
      "1\n",
      "2\n",
      "3\n",
      "4\n",
      "5\n",
      "6\n",
      "7\n",
      "8\n",
      "9\n",
      "10\n"
     ]
    }
   ],
   "source": [
    "Number=1\n",
    "count=1\n",
    "while(Number<=10):\n",
    "    print(Number)\n",
    "    Number=Number+count\n",
    "    \n"
   ]
  },
  {
   "cell_type": "markdown",
   "id": "432c56e4",
   "metadata": {},
   "source": [
    "### Assignment 7: Nested Loops\n",
    "\n",
    "Write a program that prints a 5x5 grid of asterisks (*) using nested loops."
   ]
  },
  {
   "cell_type": "code",
   "execution_count": 22,
   "id": "7e838211",
   "metadata": {},
   "outputs": [
    {
     "name": "stdout",
     "output_type": "stream",
     "text": [
      " *  *  *  *  * \n",
      " *  *  *  *  * \n",
      " *  *  *  *  * \n",
      " *  *  *  *  * \n",
      " *  *  *  *  * \n"
     ]
    }
   ],
   "source": [
    "for i in range(5):\n",
    "    for j in range(5):\n",
    "        print(\" * \",end=\"\")\n",
    "    print()"
   ]
  },
  {
   "cell_type": "markdown",
   "id": "f6ffcc86",
   "metadata": {},
   "source": [
    "### Assignment 8: break Statement\n",
    "\n",
    "Write a program that asks the user to input numbers until they input 0. The program should print the sum of all the input numbers.\n"
   ]
  },
  {
   "cell_type": "code",
   "execution_count": 30,
   "id": "6d0007d4",
   "metadata": {},
   "outputs": [
    {
     "name": "stdout",
     "output_type": "stream",
     "text": [
      "Total number of inputs you made are 0\n",
      "The Sum of Number Inputs are : 8641\n"
     ]
    }
   ],
   "source": [
    "Sum=0\n",
    "count=1\n",
    "while True:\n",
    "    Number=int(input(\"Enter a number\"))\n",
    "    if Number==0:\n",
    "        break\n",
    "    sum=sum+Number\n",
    "    count+=1\n",
    "print(f\"Total number of inputs you made are {count}\")\n",
    "print(f\"The Sum of Number Inputs are : {sum}\")"
   ]
  },
  {
   "cell_type": "markdown",
   "id": "fbf50a3d",
   "metadata": {},
   "source": [
    "### Assignment 9: continue Statement\n",
    "\n",
    "Write a program that prints all the numbers from 1 to 10 except 5 using a for loop and continue statement."
   ]
  },
  {
   "cell_type": "code",
   "execution_count": 33,
   "id": "f90f165d",
   "metadata": {},
   "outputs": [
    {
     "name": "stdout",
     "output_type": "stream",
     "text": [
      "1\n",
      "2\n",
      "3\n",
      "4\n",
      "6\n",
      "7\n",
      "8\n",
      "9\n"
     ]
    }
   ],
   "source": [
    "for i in range(1,10):\n",
    "    if(i==5):\n",
    "        continue\n",
    "    print(i)"
   ]
  },
  {
   "cell_type": "markdown",
   "id": "ffa73fbf",
   "metadata": {},
   "source": [
    "### Assignment 10: pass Statement\n",
    "\n",
    "Write a program that defines an empty function using the pass statement.\n"
   ]
  },
  {
   "cell_type": "code",
   "execution_count": 34,
   "id": "28af50b7",
   "metadata": {},
   "outputs": [
    {
     "name": "stdout",
     "output_type": "stream",
     "text": [
      "1\n",
      "3\n"
     ]
    }
   ],
   "source": [
    "for i in range (1,5,2):\n",
    "    if(i==i):\n",
    "        pass\n",
    "    print(i)"
   ]
  },
  {
   "cell_type": "markdown",
   "id": "705fc346",
   "metadata": {},
   "source": [
    "### Assignment 11: Combining Loops and Conditionals\n",
    "\n",
    "Write a program that asks the user to input a number and prints all the even numbers from 1 to that number using a for loop."
   ]
  },
  {
   "cell_type": "code",
   "execution_count": 2,
   "id": "db5ed93c",
   "metadata": {},
   "outputs": [
    {
     "name": "stdout",
     "output_type": "stream",
     "text": [
      "2\n",
      "4\n",
      "6\n",
      "8\n"
     ]
    }
   ],
   "source": [
    "Number=int(input(\"Enter a Number\"))\n",
    "for i in range(1,Number):\n",
    "    if(i%2==0):\n",
    "        print(i)\n",
    "    "
   ]
  },
  {
   "cell_type": "markdown",
   "id": "6407f3a6",
   "metadata": {},
   "source": [
    "### Assignment 12: Factorial Calculation\n",
    "\n",
    "Write a program that calculates the factorial of a number input by the user using a while loop."
   ]
  },
  {
   "cell_type": "code",
   "execution_count": 6,
   "id": "042a5181",
   "metadata": {},
   "outputs": [
    {
     "name": "stdout",
     "output_type": "stream",
     "text": [
      "The factorial of 3 is 6\n"
     ]
    }
   ],
   "source": [
    "def Factorial(Number):\n",
    "    while(True):\n",
    "        if Number==1:\n",
    "            return 1\n",
    "        else:\n",
    "            return(Number*Factorial(Number-1))\n",
    "    \n",
    "Number=int(input(\"Enter a number\"))\n",
    "print(f\"The factorial of {Number} is {Factorial(Number)}\")\n",
    "    "
   ]
  },
  {
   "cell_type": "markdown",
   "id": "5fd2e51a",
   "metadata": {},
   "source": [
    "### Assignment 13: Sum of Digits\n",
    "\n",
    "Write a program that calculates the sum of the digits of a number input by the user using a while loop."
   ]
  },
  {
   "cell_type": "code",
   "execution_count": 7,
   "id": "882f535f",
   "metadata": {},
   "outputs": [
    {
     "name": "stdout",
     "output_type": "stream",
     "text": [
      "The sum of the digit of Number entered is 10\n"
     ]
    }
   ],
   "source": [
    "Number=int(input(\"Enter a number \"))\n",
    "count=0\n",
    "while(Number>0):\n",
    "    remainder=Number%10\n",
    "    count=count+remainder\n",
    "    Number=Number//10\n",
    "\n",
    "print(f\"The sum of the digit of Number entered is {count}\")\n",
    "\n",
    "\n"
   ]
  },
  {
   "cell_type": "markdown",
   "id": "eed3032d",
   "metadata": {},
   "source": [
    "### Assignment 14: Prime Number Check\n",
    "\n",
    "Write a program that checks if a number input by the user is a prime number using a for loop."
   ]
  },
  {
   "cell_type": "code",
   "execution_count": 20,
   "id": "1bf2be5b",
   "metadata": {},
   "outputs": [
    {
     "name": "stdout",
     "output_type": "stream",
     "text": [
      "5 is a prime number\n"
     ]
    }
   ],
   "source": [
    "Number=int(input(\"Enter a Number \"))\n",
    "Flag=True\n",
    "if(Number<=0):\n",
    "    Flag=False\n",
    "else:\n",
    "    for i in range (2,int(Number ** 0.5)+1):\n",
    "        if(Number%i==0):\n",
    "            Flag=False\n",
    "            break\n",
    "if(Flag):\n",
    "    print(f\"{Number} is a prime number\")\n",
    "else:\n",
    "    print(f\"{Number} is not a prime number\")\n"
   ]
  },
  {
   "cell_type": "markdown",
   "id": "380a037d",
   "metadata": {},
   "source": [
    "### Assignment 15: Fibonacci Sequence\n",
    "\n",
    "Write a program that prints the first n Fibonacci numbers, where n is input by the user."
   ]
  },
  {
   "cell_type": "code",
   "execution_count": 30,
   "id": "b67f8b1f",
   "metadata": {},
   "outputs": [
    {
     "name": "stdout",
     "output_type": "stream",
     "text": [
      "0 1 1 2 3 "
     ]
    }
   ],
   "source": [
    "Number=int(input(\"Enter a Number \"))\n",
    "First_Number=0\n",
    "Second_Number=1\n",
    "print(f\"{First_Number} {Second_Number}\",end= \" \")\n",
    "Third_Number=1\n",
    "for i in range(2,Number):\n",
    "    Third_Number=First_Number+Second_Number\n",
    "    print(Third_Number ,end=\" \" )\n",
    "    First_Number=Second_Number\n",
    "    Second_Number=Third_Number\n",
    "    \n"
   ]
  }
 ],
 "metadata": {
  "kernelspec": {
   "display_name": "Python 3",
   "language": "python",
   "name": "python3"
  },
  "language_info": {
   "codemirror_mode": {
    "name": "ipython",
    "version": 3
   },
   "file_extension": ".py",
   "mimetype": "text/x-python",
   "name": "python",
   "nbconvert_exporter": "python",
   "pygments_lexer": "ipython3",
   "version": "3.12.0"
  }
 },
 "nbformat": 4,
 "nbformat_minor": 5
}

{
 "cells": [
  {
   "cell_type": "markdown",
   "metadata": {},
   "source": [
    "1.Determine if a year is a leap year using nested condition statement"
   ]
  },
  {
   "cell_type": "code",
   "execution_count": 1,
   "metadata": {
    "notebookRunGroups": {
     "groupValue": "2"
    }
   },
   "outputs": [
    {
     "name": "stdout",
     "output_type": "stream",
     "text": [
      "555 its not leap year\n"
     ]
    }
   ],
   "source": [
    "Year=int(input(\"Enter a Year\"))\n",
    "if Year%4==0:\n",
    "    if Year%100==0:\n",
    "        if Year%400==0:\n",
    "            print(f\"{Year} its a leap year\")\n",
    "        else:\n",
    "            print(f\"{Year} its not a leap year\")\n",
    "    else:\n",
    "        print(f\"{Year} its a leap year\")\n",
    "else:\n",
    "    print(f\"{Year} its not leap year\")"
   ]
  },
  {
   "cell_type": "markdown",
   "metadata": {},
   "source": [
    "2.Create a Simple Calculator"
   ]
  },
  {
   "cell_type": "code",
   "execution_count": 2,
   "metadata": {},
   "outputs": [
    {
     "name": "stdout",
     "output_type": "stream",
     "text": [
      "Diffrance of Numbers is 48.0\n"
     ]
    }
   ],
   "source": [
    "Number_1=float(input(\"Enter First Number\"))\n",
    "Number_2=float(input(\"Enter Second Number\"))\n",
    "Choice=input(\"Enter your choice withIn (+,-,*,/)\")\n",
    "\n",
    "if (Choice==\"+\"):\n",
    "    print(f\"Sum of Numbers is {Number_1+Number_2}\")\n",
    "elif (Choice == \"-\"):\n",
    "    print(f\"Diffrance of Numbers is {Number_1-Number_2}\")\n",
    "elif (Choice==\"*\"):\n",
    "    print((f\"Multiply of Numbers is {Number_1*Number_2}\"))\n",
    "elif (Choice == \"/\"):\n",
    "    if (Number_2!=0):\n",
    "        print(f\"Division of Numbers is {Number_1/Number_2}\")\n",
    "    else:\n",
    "        print(f\"You Entered a Number_2 as 0\")\n",
    "else:\n",
    "    print(\"Oops! You made an invali choice !!!! \")"
   ]
  },
  {
   "cell_type": "markdown",
   "metadata": {},
   "source": [
    "3.Determine the ticket price based on age and wheather the person is a student.Ticket pricing based on age and student status.\n"
   ]
  },
  {
   "cell_type": "code",
   "execution_count": 14,
   "metadata": {},
   "outputs": [
    {
     "name": "stdout",
     "output_type": "stream",
     "text": [
      "Ticket Price is --> 8$\n"
     ]
    }
   ],
   "source": [
    "Age=int(input(\"Enter Your Age : \"))\n",
    "is_Student=input(\"Are you a student ? (yes/no)\")\n",
    "\n",
    "if(Age<=5):\n",
    "    price=\"Free\"\n",
    "\n",
    "elif(Age<=10):\n",
    "    if(is_Student==\"yes\"):\n",
    "        price=\"8$\"\n",
    "    else:\n",
    "        price=\"10$\"\n",
    "\n",
    "elif(Age<=18):\n",
    "    if(is_Student==\"yes\"):\n",
    "        price=\"15$\"\n",
    "    else:\n",
    "        price=\"18$\"\n",
    "    \n",
    "\n",
    "elif(Age<=30):\n",
    "    if(is_Student==\"Yes\"):\n",
    "        price=\"25$\"\n",
    "    else:\n",
    "        price=\"30$\"\n",
    "\n",
    "elif(Age<=45):\n",
    "        price=\"35$\"\n",
    "\n",
    "elif(Age<=60):\n",
    "    price=\"40$\"\n",
    "\n",
    "elif(Age<=75):\n",
    "    price=\"32$\"\n",
    "\n",
    "elif(Age<=100):\n",
    "    price=\"20$\"\n",
    "else:\n",
    "    price=\"Free\"\n",
    "\n",
    "print(f\"Ticket Price is --> {price}\")"
   ]
  },
  {
   "cell_type": "code",
   "execution_count": null,
   "metadata": {},
   "outputs": [],
   "source": []
  },
  {
   "cell_type": "code",
   "execution_count": null,
   "metadata": {},
   "outputs": [],
   "source": []
  }
 ],
 "metadata": {
  "kernelspec": {
   "display_name": "Python 3",
   "language": "python",
   "name": "python3"
  },
  "language_info": {
   "codemirror_mode": {
    "name": "ipython",
    "version": 3
   },
   "file_extension": ".py",
   "mimetype": "text/x-python",
   "name": "python",
   "nbconvert_exporter": "python",
   "pygments_lexer": "ipython3",
   "version": "3.12.0"
  }
 },
 "nbformat": 4,
 "nbformat_minor": 2
}

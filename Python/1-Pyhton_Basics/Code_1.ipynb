{
 "cells": [
  {
   "cell_type": "markdown",
   "metadata": {},
   "source": [
    "Simple Calculator\n"
   ]
  },
  {
   "cell_type": "code",
   "execution_count": 1,
   "metadata": {},
   "outputs": [
    {
     "name": "stdout",
     "output_type": "stream",
     "text": [
      "Sum : 15.0\n",
      "Diff : 5.0\n",
      "Multi : 50.0\n",
      "Divide : 2.0\n"
     ]
    }
   ],
   "source": [
    "num1=float(input(\"Enter a Number\"))\n",
    "num2=float(input(\"Enter a Number\"))\n",
    "\n",
    "sum=num1+num2\n",
    "diff=num1-num2\n",
    "multi=num1*num2\n",
    "div=num1/num2\n",
    "\n",
    "print(f\"Sum : {sum}\")\n",
    "print(f\"Diff : {diff}\")\n",
    "print(f\"Multi : {multi}\")\n",
    "print(f\"Divide : {div}\")"
   ]
  },
  {
   "cell_type": "code",
   "execution_count": null,
   "metadata": {},
   "outputs": [],
   "source": []
  }
 ],
 "metadata": {
  "kernelspec": {
   "display_name": "Python 3",
   "language": "python",
   "name": "python3"
  },
  "language_info": {
   "codemirror_mode": {
    "name": "ipython",
    "version": 3
   },
   "file_extension": ".py",
   "mimetype": "text/x-python",
   "name": "python",
   "nbconvert_exporter": "python",
   "pygments_lexer": "ipython3",
   "version": "3.12.0"
  }
 },
 "nbformat": 4,
 "nbformat_minor": 2
}

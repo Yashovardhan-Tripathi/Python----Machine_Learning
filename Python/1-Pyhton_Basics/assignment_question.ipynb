{
 "cells": [
  {
   "cell_type": "markdown",
   "metadata": {},
   "source": [
    "# Lesson 1.2: Python Basics\n",
    "## Topics Covered:\n",
    "- Syntax and Semantics\n",
    "- Variables and Data Types\n",
    "- Basic Operators (Arithmetic, Comparison, Logical)\n"
   ]
  },
  {
   "cell_type": "markdown",
   "metadata": {},
   "source": [
    "## 1. Syntax and Semantics\n",
    "\n",
    "**Question 1:** Write a Python program to print \"Hello, World!\"."
   ]
  },
  {
   "cell_type": "code",
   "execution_count": 4,
   "metadata": {},
   "outputs": [
    {
     "name": "stdout",
     "output_type": "stream",
     "text": [
      "Hello, World!\n"
     ]
    }
   ],
   "source": [
    "print(\"Hello, World!\")"
   ]
  },
  {
   "cell_type": "markdown",
   "metadata": {},
   "source": [
    "**Question 2:** Write a Python program that takes a user input and prints it."
   ]
  },
  {
   "cell_type": "code",
   "execution_count": 5,
   "metadata": {},
   "outputs": [
    {
     "name": "stdout",
     "output_type": "stream",
     "text": [
      "\n"
     ]
    }
   ],
   "source": [
    "a=input(\"Your Name Here\")\n",
    "print(a)"
   ]
  },
  {
   "cell_type": "markdown",
   "metadata": {},
   "source": [
    "**Question 3:** Write a Python program to check if a number is positive, negative, or zero."
   ]
  },
  {
   "cell_type": "code",
   "execution_count": 6,
   "metadata": {},
   "outputs": [
    {
     "name": "stdout",
     "output_type": "stream",
     "text": [
      "You Entered a Positve Number\n"
     ]
    }
   ],
   "source": [
    "Number=int(input(\"Enter a number\"))\n",
    "if Number>0:\n",
    "    print (\"You Entered a Positve Number\")\n",
    "elif Number<0:\n",
    "    print(\"You Entered a Negative Number\")\n",
    "else :\n",
    "    print(\"You Entered a Zero as a Number\")\n"
   ]
  },
  {
   "cell_type": "markdown",
   "metadata": {},
   "source": [
    "**Question 4:** Write a Python program to find the largest of three numbers."
   ]
  },
  {
   "cell_type": "code",
   "execution_count": 1,
   "metadata": {},
   "outputs": [
    {
     "name": "stdout",
     "output_type": "stream",
     "text": [
      "Largest Number is : 55\n"
     ]
    }
   ],
   "source": [
    "Number_1=int(input(\"Enter Number_1\"))\n",
    "Number_2=int(input(\"Enter Number_2\"))\n",
    "Number_3=int(input(\"Enter Number_3\"))\n",
    "if(Number_1>=Number_2 and Number_1>=Number_3 ):\n",
    "    print(f\"Largest Number is : {Number_1}\")\n",
    "elif(Number_2>=Number_1 and Number_2>=Number_3 ):\n",
    "    print(f\"Largest Number is : {Number_2}\")\n",
    "else:\n",
    "    print(f\"Largest Number is : {Number_3}\")"
   ]
  },
  {
   "cell_type": "markdown",
   "metadata": {},
   "source": [
    "**Question 5:** Write a Python program to calculate the factorial of a number."
   ]
  },
  {
   "cell_type": "code",
   "execution_count": null,
   "metadata": {},
   "outputs": [
    {
     "name": "stdout",
     "output_type": "stream",
     "text": [
      "Factorial of Number 100 is 93326215443944152681699238856266700490715968264381621468592963895217599993229915608941463976156518286253697920827223758251185210916864000000000000000000000000 \n"
     ]
    }
   ],
   "source": [
    "def factorial(Number):\n",
    "    if(Number==0):\n",
    "        return 1\n",
    "    else:\n",
    "        return (factorial(Number - 1)*Number)\n",
    "Number=int(input(\"Enter Number_1\"))\n",
    "fact=factorial(Number)\n",
    "print(f\"Factorial of Number {Number} is {fact} \")\n"
   ]
  },
  {
   "cell_type": "markdown",
   "metadata": {},
   "source": [
    "## 2. Variables and Data Types\n",
    "\n",
    "**Question 6:** Create variables of different data types: integer, float, string, and boolean. Print their values and types."
   ]
  },
  {
   "cell_type": "code",
   "execution_count": null,
   "metadata": {},
   "outputs": [
    {
     "name": "stdout",
     "output_type": "stream",
     "text": [
      "5 <class 'int'>\n",
      "4.2 <class 'float'>\n",
      "Yash <class 'str'>\n",
      "True <class 'bool'>\n"
     ]
    }
   ],
   "source": [
    "a=5\n",
    "b=4.2\n",
    "c=\"Yash\"\n",
    "d=True\n",
    "\n",
    "print(a,type(a))\n",
    "print(b,type(b))\n",
    "print(c,type(c))\n",
    "print(d,type(d))"
   ]
  },
  {
   "cell_type": "markdown",
   "metadata": {},
   "source": [
    "**Question 7:** Write a Python program to swap the values of two variables."
   ]
  },
  {
   "cell_type": "code",
   "execution_count": null,
   "metadata": {},
   "outputs": [
    {
     "name": "stdout",
     "output_type": "stream",
     "text": [
      "5 10\n",
      "10 5\n"
     ]
    }
   ],
   "source": [
    "a=5\n",
    "b=10\n",
    "print(a , b)\n",
    "temp=a\n",
    "a=b\n",
    "b=temp\n",
    "print (a , b)"
   ]
  },
  {
   "cell_type": "markdown",
   "metadata": {},
   "source": [
    "**Question 8:** Write a Python program to convert Celsius to Fahrenheit."
   ]
  },
  {
   "cell_type": "code",
   "execution_count": null,
   "metadata": {},
   "outputs": [
    {
     "name": "stdout",
     "output_type": "stream",
     "text": [
      "122.72\n"
     ]
    }
   ],
   "source": [
    "Celsius=float(input(\"Enter Temperature in Celsius\"))\n",
    "Fahrenheit=(Celsius*1.8)+32\n",
    "print(Fahrenheit)"
   ]
  },
  {
   "cell_type": "markdown",
   "metadata": {},
   "source": [
    "**Question 9:** Write a Python program to concatenate two strings."
   ]
  },
  {
   "cell_type": "code",
   "execution_count": null,
   "metadata": {},
   "outputs": [
    {
     "name": "stdout",
     "output_type": "stream",
     "text": [
      "yashovardhan\n"
     ]
    }
   ],
   "source": [
    "str1=input(\"Enter a String\")\n",
    "str2=input(\"Enter a String\")\n",
    "print( str1 + str2 )"
   ]
  },
  {
   "cell_type": "markdown",
   "metadata": {},
   "source": [
    "**Question 10:** Write a Python program to check if a variable is of a specific data type."
   ]
  },
  {
   "cell_type": "code",
   "execution_count": null,
   "metadata": {},
   "outputs": [
    {
     "name": "stdout",
     "output_type": "stream",
     "text": [
      "It is correct\n"
     ]
    }
   ],
   "source": [
    "a=433\n",
    "if (a==type(a)):\n",
    "    print(\"It is correct\")\n",
    "else:\n",
    "    print(\"It is correct\")\n"
   ]
  },
  {
   "cell_type": "markdown",
   "metadata": {},
   "source": [
    "## 3. Basic Operators (Arithmetic, Comparison, Logical)\n",
    "\n",
    "**Question 11:** Write a Python program to perform arithmetic operations: addition, subtraction, multiplication, and division."
   ]
  },
  {
   "cell_type": "code",
   "execution_count": null,
   "metadata": {},
   "outputs": [
    {
     "name": "stdout",
     "output_type": "stream",
     "text": [
      "Addition of 50 and 5 is 55\n",
      "Subtraction of 50 and 5 is 45\n",
      "Multiplication of 50 and 5 is 250\n",
      "Division of 50 and 5 is 10.0\n"
     ]
    }
   ],
   "source": [
    "Number=int(input(\"Enter a Number\"))\n",
    "number=int(input(\"Enter a number\"))\n",
    "\n",
    "print(f\"Addition of {Number} and {number} is {Number+number}\")\n",
    "print(f\"Subtraction of {Number} and {number} is {Number-number}\")\n",
    "print(f\"Multiplication of {Number} and {number} is {Number*number}\")\n",
    "print(f\"Division of {Number} and {number} is {Number/number}\")"
   ]
  },
  {
   "cell_type": "markdown",
   "metadata": {},
   "source": [
    "**Question 12:** Write a Python program to demonstrate comparison operators: equal to, not equal to, greater than, less than."
   ]
  },
  {
   "cell_type": "code",
   "execution_count": null,
   "metadata": {},
   "outputs": [
    {
     "name": "stdout",
     "output_type": "stream",
     "text": [
      "Greator than Equal to of 54 and 62 is False\n",
      "Smaller than Equal to of 54 and 62 is True\n",
      "Equal to of 54 and 62 is False\n",
      "Not Equal to of 54 and 62 is True\n"
     ]
    }
   ],
   "source": [
    "# Your code here\n",
    "Number=int(input(\"Enter a Number\"))\n",
    "number=int(input(\"Enter a number\"))\n",
    "print(f\"Greator than Equal to of {Number} and {number} is {Number>=number}\")\n",
    "print(f\"Smaller than Equal to of {Number} and {number} is {Number<=number}\")\n",
    "print(f\"Equal to of {Number} and {number} is {Number==number}\")\n",
    "print(f\"Not Equal to of {Number} and {number} is {Number!=number}\")"
   ]
  },
  {
   "cell_type": "markdown",
   "metadata": {},
   "source": [
    "**Question 13:** Write a Python program to demonstrate logical operators: and, or, not."
   ]
  },
  {
   "cell_type": "code",
   "execution_count": null,
   "metadata": {},
   "outputs": [
    {
     "name": "stdout",
     "output_type": "stream",
     "text": [
      "AND operator False\n",
      "OR operator True\n",
      "NOT operatorFalse\n"
     ]
    }
   ],
   "source": [
    "# Your code here\n",
    "Number=False\n",
    "number=True\n",
    "print(f\"AND operator {Number and number}\")\n",
    "print(f\"OR operator {Number or number}\")\n",
    "print(f\"NOT operator {not number}\")"
   ]
  },
  {
   "cell_type": "markdown",
   "metadata": {},
   "source": [
    "**Question 14:** Write a Python program to calculate the square of a number."
   ]
  },
  {
   "cell_type": "code",
   "execution_count": null,
   "metadata": {},
   "outputs": [
    {
     "name": "stdout",
     "output_type": "stream",
     "text": [
      "Square of 5 is 25\n"
     ]
    }
   ],
   "source": [
    "Number=int(input(\"Enter a Number\"))\n",
    "print(f\"Square of {Number} is {Number**2}\")"
   ]
  },
  {
   "cell_type": "markdown",
   "metadata": {},
   "source": [
    "**Question 15:** Write a Python program to check if a number is even or odd."
   ]
  },
  {
   "cell_type": "code",
   "execution_count": null,
   "metadata": {},
   "outputs": [
    {
     "name": "stdout",
     "output_type": "stream",
     "text": [
      "Enter number is an EVEN number 2\n"
     ]
    }
   ],
   "source": [
    "# Your code here\n",
    "Number=int(input(\"Enter a Number\"))\n",
    "if(Number%2==0):\n",
    "    print(f\"Enter number is an EVEN number and number is {Number}\")\n",
    "else:\n",
    "     print(f\"Enter number is an ODD number {Number}\")"
   ]
  },
  {
   "cell_type": "markdown",
   "metadata": {},
   "source": [
    "**Question 16:** Write a Python program to find the sum of the first n natural numbers."
   ]
  },
  {
   "cell_type": "code",
   "execution_count": 8,
   "metadata": {},
   "outputs": [
    {
     "name": "stdout",
     "output_type": "stream",
     "text": [
      "The sum of N Natural Number is 55\n"
     ]
    }
   ],
   "source": [
    "Number=int(input(\"Enter a Number\"))\n",
    "sum=0\n",
    "for i in range (1,Number+1):\n",
    "    sum=sum+i\n",
    "\n",
    "print(f\"The sum of N Natural Number is {sum}\")"
   ]
  },
  {
   "cell_type": "markdown",
   "metadata": {},
   "source": [
    "\n",
    "**Question 17:** Write a Python program to check if a year is a leap year."
   ]
  },
  {
   "cell_type": "code",
   "execution_count": 11,
   "metadata": {},
   "outputs": [
    {
     "name": "stdout",
     "output_type": "stream",
     "text": [
      "2004 its a leap year\n"
     ]
    }
   ],
   "source": [
    "Year=int(input(\"Enter a Year\"))\n",
    "if Year%4==0:\n",
    "    if Year%100==0:\n",
    "        if Year%400==0:\n",
    "            print(f\"{Year} its a leap year\")\n",
    "        else:\n",
    "            print(f\"{Year} its not a leap year\")\n",
    "    else:\n",
    "        print(f\"{Year} its a leap year\")\n",
    "else:\n",
    "    print(f\"{Year} its not leap year\")"
   ]
  },
  {
   "cell_type": "markdown",
   "metadata": {},
   "source": [
    "**Question 18:** Write a Python program to reverse a string."
   ]
  },
  {
   "cell_type": "code",
   "execution_count": 17,
   "metadata": {},
   "outputs": [
    {
     "name": "stdout",
     "output_type": "stream",
     "text": [
      "hsay\n"
     ]
    }
   ],
   "source": [
    "str=input(\"Enter a String\")\n",
    "Resverse=str[::-1]\n",
    "print(Resverse)\n"
   ]
  },
  {
   "cell_type": "markdown",
   "metadata": {},
   "source": [
    "**Question 19:** Write a Python program to check if a string is a palindrome."
   ]
  },
  {
   "cell_type": "code",
   "execution_count": 19,
   "metadata": {},
   "outputs": [
    {
     "name": "stdout",
     "output_type": "stream",
     "text": [
      "Its a palindrome\n"
     ]
    }
   ],
   "source": [
    "str=input(\"Enter a String\")\n",
    "reverse_string=str[::-1]\n",
    "if str==reverse_string:\n",
    "    print(f\"Its a palindrome\")\n",
    "else:\n",
    "    print(f\"Its not a palindrome\")"
   ]
  },
  {
   "cell_type": "markdown",
   "metadata": {},
   "source": [
    "**Question 20:** Write a Python program to sort a list of numbers in ascending order."
   ]
  },
  {
   "cell_type": "code",
   "execution_count": null,
   "metadata": {},
   "outputs": [],
   "source": [
    "# Your code here"
   ]
  }
 ],
 "metadata": {
  "kernelspec": {
   "display_name": "Python 3",
   "language": "python",
   "name": "python3"
  },
  "language_info": {
   "codemirror_mode": {
    "name": "ipython",
    "version": 3
   },
   "file_extension": ".py",
   "mimetype": "text/x-python",
   "name": "python",
   "nbconvert_exporter": "python",
   "pygments_lexer": "ipython3",
   "version": "3.12.0"
  }
 },
 "nbformat": 4,
 "nbformat_minor": 4
}
